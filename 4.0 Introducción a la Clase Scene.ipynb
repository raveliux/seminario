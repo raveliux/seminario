{
 "cells": [
  {
   "attachments": {
    "scene.png": {
     "image/png": "[encoded data removed]"
    }
   },
   "cell_type": "markdown",
   "metadata": {},
   "source": [
    "# 4.0 Introducción a la clase Scene\n",
    "\n",
    "## Clase Scene\n",
    "![scene.png](attachment:scene.png)\n",
    "\n",
    "En términos concretos la clase Scene, es la clase en la que los códigos de  las animaciones de Manim se basan, además que esta nos provee de todas las herramientas necesarias para la construcción de las animaciones.\n",
    "En nuestra escena existirán varios elementos que todos se engloban en un solo grupo llamados Mobjects.\n",
    "Un Mobject a grandes rasgos solo es un objeto mostrado en nuestra pantalla.\n",
    "Todos los Mobjetcs pueden ser mostrados o desaparecidos gracias a los métodos que hay en la clase Scene que son: **Scene.add() y Scene.remove()** .\n",
    "El método que nos permite animar es: **Scene.play()**.\n",
    "Pero hay otro método que siempre se anula al escribir nuestro código que se llama **Scene.construct()**.\n",
    "\n",
    "\n",
    "## Mobjects\n",
    "Como ya lo mencionamos los mobjects son elementos que son animados para una escena y como podemos observar que pueden ser objetos matemáticos u objetos que sean solo textos y cada uno de estos tienen sus respectivos métodos, atributos para poder modificar sus características predeterminadas. \n",
    "\n",
    "### VMobjects\n",
    "\n",
    "Es un subclase de los Mobjects, solo que estos objetos son en su mayoría objetos matemáticos (vectores), pero también son de ayuda para crear objetos que no sean matemáticos como veremos el caso de los Text(No Latex) que provienen de los VMobjects\n",
    "\n",
    " ![Mobject](Mobject.png)\n",
    "\n",
    "\n",
    "\n"
   ]
  },
  {
   "cell_type": "markdown",
   "metadata": {},
   "source": [
    "### El método next_section\n",
    "Como mencionamos ya anteriormente la clase Scene tiene una muchos métodos con los cuales es posible hacer toda la parte animada de nuestro código, pero este metodo permite separar las animaciones para renderizarlas por separado.\n",
    "\n",
    "\n",
    "**next_section(name='unnamed', type=DefaultSectionType.NORMAL, skip_animations=False)**"
   ]
  },
  {
   "cell_type": "code",
   "execution_count": null,
   "metadata": {},
   "outputs": [],
   "source": [
    "class MyScene(Scene):\n",
    "    def construct(self):\n",
    "        self.play(Write(Text(\"Hello World!\")"
   ]
  },
  {
   "cell_type": "code",
   "execution_count": null,
   "metadata": {},
   "outputs": [],
   "source": [
    "def construct(self):\n",
    "    # play the first animations...\n",
    "    # you don't need a section in the very beginning as it gets created automatically\n",
    "    self.next_section()\n",
    "    # play more animations...\n",
    "    self.next_section(\"this is an optional name that doesn't have to be unique\")\n",
    "    # play even more animations...\n",
    "    self.next_section(\"this is a section without any animations, it will be removed\")"
   ]
  },
  {
   "cell_type": "code",
   "execution_count": 2,
   "metadata": {},
   "outputs": [],
   "source": [
    "def construct(self):\n",
    "    self.next_section()\n",
    "    # this section doesn't have any animations and will be removed\n",
    "    # but no error will be thrown\n",
    "    # feel free to tend your flock of empty sections if you so desire\n",
    "    self.add(Circle())\n",
    "    self.next_section()"
   ]
  },
  {
   "cell_type": "markdown",
   "metadata": {},
   "source": [
    "## Text\n",
    "Cuando queremos escribir textos en nuestras animaciones, tenemos dos formas de hacerlo que es con los Mobjects Text o con ayuda de Latex que más adelante diremos como ocupar esta opción\n",
    "\n",
    "Cuando ocupamos la opción Text, estamos ocupando las librerias de **Pango** \n",
    "La ventaja de ocupar este opción es que esta totalmente dedicada a textos y no tanto a poner textos matematicos que es lo que nos ofrece Latex. Otra ventaja con Latex es que no es necesario meter otras librerias para querer escribir textos en otros idiomas, además del ingles.\n",
    "Como en los siguientes ejemplos\n"
   ]
  },
  {
   "cell_type": "code",
   "execution_count": null,
   "metadata": {},
   "outputs": [],
   "source": [
    "class Example1Text(Scene):\n",
    "    def construct(self):\n",
    "        text = Text('Hello world').scale(3)\n",
    "        self.add(text)"
   ]
  },
  {
   "cell_type": "markdown",
   "metadata": {},
   "source": [
    "### Color"
   ]
  },
  {
   "cell_type": "code",
   "execution_count": null,
   "metadata": {},
   "outputs": [],
   "source": [
    "class TextColorExample(Scene):\n",
    "    def construct(self):\n",
    "        text1 = Text('Hello Mundo', color=BLUE).scale(3)\n",
    "        text2 = Text('Hola world', gradient=(BLUE, GREEN)).scale(3).next_to(text1, DOWN)\n",
    "        self.add(text1, text2) "
   ]
  },
  {
   "cell_type": "markdown",
   "metadata": {},
   "source": [
    "### Tipos de Letra, más colores y grosores de letra"
   ]
  },
  {
   "cell_type": "code",
   "execution_count": null,
   "metadata": {},
   "outputs": [],
   "source": [
    "class TextItalicAndBoldExample(Scene):\n",
    "    def construct(self):\n",
    "        text1 = Text(\"Hello Luis\", slant=ITALIC)\n",
    "        text2 = Text(\"Hello world\", t2s={'world':ITALIC})\n",
    "        text3 = Text(\"Hello Juan\", weight=BOLD)\n",
    "        text4 = Text(\"Hello world\", t2w={'world':BOLD})\n",
    "        text5 = Text(\"Hello Diego\", t2c={'o':YELLOW}, disable_ligatures=True)\n",
    "        text6 = Text(\n",
    "            \"Visit us at docs.manim.community\",\n",
    "            t2c={\"docs.manim.community\": YELLOW},\n",
    "            disable_ligatures=True,\n",
    "       )\n",
    "        text6.scale(1.3).shift(DOWN)\n",
    "        self.add(text1, text2, text3, text4, text5 , text6)\n",
    "        Group(*self.mobjects).arrange(DOWN, buff=.8).set_height(config.frame_height-LARGE_BUFF)       "
   ]
  },
  {
   "cell_type": "markdown",
   "metadata": {},
   "source": [
    "### Renderizado "
   ]
  },
  {
   "cell_type": "code",
   "execution_count": null,
   "metadata": {},
   "outputs": [],
   "source": [
    "from manim import* \n",
    "\n",
    "class TextRender(Scene):\n",
    "    def construct(self):\n",
    "        morning = Text(\"Hola Animathica\", font=\"sans-serif\")\n",
    "        self.play(Write(morning))\n",
    "        self.wait(2)       "
   ]
  },
  {
   "cell_type": "markdown",
   "metadata": {},
   "source": [
    "## MathTex y Tex \n",
    "Estos dos comandos tienen la particularidad, de que los textos tanto matemáticos como los que no son ahora son renderizados y creados por Latex, eso quiere decir que toda la sintaxis que trabajamos en Latex, es válida para escribir lo que necesitemos dentro de ambos comandos \n",
    "Tex(\"\") y MathTex(\"\") veamos unos ejemplos donde podamos ver cual es la caracteristica que tiene cada uno.\n",
    "Además gracias a los comandos que tiene Latex, podemos ocupar un Tex cuando querramos escribir un texto matemático para nuestras animaciones y que no nos salte un error al compilar nuestro código\n"
   ]
  },
  {
   "cell_type": "markdown",
   "metadata": {},
   "source": [
    "Aquí podemos ver dos ejemplos de como se usa Tex y MathTex"
   ]
  },
  {
   "cell_type": "code",
   "execution_count": null,
   "metadata": {},
   "outputs": [],
   "source": [
    "from manim import*\n",
    "\n",
    "class Tex(Scene):\n",
    "     def construct(self):\n",
    "        t1 = Tex('Hola Andrea')\n",
    "        self.add((t1)\n",
    "        "
   ]
  },
  {
   "cell_type": "code",
   "execution_count": null,
   "metadata": {},
   "outputs": [],
   "source": [
    "from manim import*\n",
    "\n",
    "class Eq(Scene):\n",
    "    def construct(self):\n",
    "        t = MathTex(r\"\\int_a^b f'(x) dx = f(b)- f(a)\")\n",
    "        t2 = MathTex(r\"a^2+b^2=c^2\")\n",
    "        self.add(t)\n",
    "        t2.next_to(t, DOWN)\n",
    "        self.add(t2)"
   ]
  },
  {
   "cell_type": "markdown",
   "metadata": {},
   "source": [
    "Aquí veamos un ejemplo de lo que mencionamos de poder utilizar sin problema Tex sin tener un problema de compilación"
   ]
  },
  {
   "cell_type": "code",
   "execution_count": null,
   "metadata": {},
   "outputs": [],
   "source": [
    "from manim import* \n",
    "\n",
    "\n",
    "class Diferencia(Scene):\n",
    "    def construct(self):\n",
    "        arrow0 = MathTex(r\"\\xrightarrow{x^6y^8}\", font_size=96)\n",
    "        arrow1 = Tex(r\"$\\xrightarrow{x^6y^8}$\", font_size=96)\n",
    "\n",
    "        self.add(VGroup(arrow0, arrow1).arrange(DOWN))\n"
   ]
  },
  {
   "cell_type": "markdown",
   "metadata": {},
   "source": [
    "Otro aspecto importante de los Tex, es que podemos usarlos como si tuvieramos una cadena de Python y ocupar de manera independiente cada elemento de esa cadena para darle color o agregarle alguna característica que queramos.\n"
   ]
  },
  {
   "cell_type": "code",
   "execution_count": null,
   "metadata": {},
   "outputs": [],
   "source": [
    "from manim import *\n",
    "\n",
    "class Strings(Scene):\n",
    "    def construct(self):\n",
    "        tex = Tex('Hola', r'$\\bigstar$', r'\\LaTeX', font_size=144)\n",
    "        tex.set_color_by_tex('igsta', BLUE)\n",
    "        self.add(tex)"
   ]
  },
  {
   "cell_type": "markdown",
   "metadata": {},
   "source": [
    "Cuando trabajamos con los MathTex,  muchas veces las ecuaciones se escriben sin estar alineadas, una forma como lo haríamos en Latex, sería con el ambiente {aligned}, pero muchas veces nos saltará un error al compilarlo para nuestras animaciones, así que las últimas versiones de ManimCE han incorporado una opción para alinear los textos y en especial las ecuaciones, que es agregando dentro del MathTex un **r''** como en el siguiente ejemplo."
   ]
  },
  {
   "cell_type": "code",
   "execution_count": null,
   "metadata": {},
   "outputs": [],
   "source": [
    "class LaTeXAlignEnvironment(Scene):\n",
    "    def construct(self):\n",
    "        tex = MathTex(r'f(x) &= 3 + 2 + 1\\\\ &= 5 + 1 \\\\ &= 6', font_size=96)\n",
    "        self.add(tex)"
   ]
  },
  {
   "cell_type": "markdown",
   "metadata": {},
   "source": [
    "Propiedades no menos importantes que tienen los MathTex y que facilitan el trabajo."
   ]
  },
  {
   "cell_type": "code",
   "execution_count": null,
   "metadata": {},
   "outputs": [],
   "source": [
    "from manim import *\n",
    "\n",
    "class LaTeXSubstringColoring(Scene):\n",
    "    def construct(self):\n",
    "        equation = MathTex(\n",
    "            r\"e^x = x^0 + x^1 + \\frac{1}{2} x^2 + \\frac{1}{6} x^3 + \\cdots + \\frac{1}{n!} x^n + \\cdots\",\n",
    "            substrings_to_isolate=\"x\"\n",
    "        )\n",
    "        equation.set_color_by_tex(\"x\", YELLOW)\n",
    "        self.add(equation)"
   ]
  },
  {
   "cell_type": "code",
   "execution_count": null,
   "metadata": {},
   "outputs": [],
   "source": [
    "from manim import *\n",
    "\n",
    "class IndexLabelsMathTex(Scene):\n",
    "    def construct(self):\n",
    "        text = MathTex(r\"\\binom{2n}{n+2}\", font_size=96)\n",
    "\n",
    "        # index the first (and only) term of the MathTex mob\n",
    "        self.add(index_labels(text[0]))\n",
    "\n",
    "        text[0][1:3].set_color(YELLOW)\n",
    "        text[0][3:6].set_color(RED)\n",
    "        self.add(text)"
   ]
  },
  {
   "cell_type": "markdown",
   "metadata": {},
   "source": [
    "## SVGPathMobject\n",
    "\n",
    "![SVP](sjj.png)\n",
    "Varios tipos de VMobject que se ocupa muy regularmente en los videos provienen de esta subfamilia de VMobject (SVGPathMobject) que en teoría en esta familia son todos aquellos VMobjects  que realizan un cierto camino o que se construyen a partir de realizar un camino.\n",
    "![SS](ss.png)\n",
    "### Brace\n",
    "Un VMobject que se desprende es el Brace, que forma un corchete entre dos o más Mobjects \"englobandolos en un conjunto\"."
   ]
  },
  {
   "cell_type": "code",
   "execution_count": null,
   "metadata": {},
   "outputs": [],
   "source": [
    "from manim import *\n",
    "\n",
    "class BraceExample(Scene):\n",
    "    def construct(self):\n",
    "        s = Square()\n",
    "        self.add(s)\n",
    "        for i in np.linspace(0.1,1.0,4):\n",
    "            br = Brace(s, sharpness=i)\n",
    "            t = Text(f\"sharpness= {i}\").next_to(br, RIGHT)\n",
    "            self.add(t)\n",
    "            self.add(br)\n",
    "        VGroup(*self.mobjects).arrange(DOWN, buff=0.2)\n",
    "        "
   ]
  },
  {
   "cell_type": "markdown",
   "metadata": {},
   "source": [
    "\n",
    "## BraceBetweenPoints\n",
    "Por último un Mobject que se desprende del Mobject Brace, la diferencia entre ambos es que en vez de englobar dos Mobjects como lo hace el Brace; este lo que hace es englobarte a partir de dos puntos dados y además este BraceBetweenPoints puedes al igual que el Brace darle una dirección, ya que hereda casi todos los atributos que le puedes dar a Brace"
   ]
  },
  {
   "cell_type": "code",
   "execution_count": null,
   "metadata": {},
   "outputs": [],
   "source": [
    "from manim import *\n",
    "\n",
    "class BraceBPExample(Scene):\n",
    "    def construct(self):\n",
    "        p1 = [0,0,0]\n",
    "        p2 = [1,2,0]\n",
    "        brace = BraceBetweenPoints(p1,p2)\n",
    "        self.play(Create(NumberPlane()))\n",
    "        self.play(Create(brace))\n",
    "        self.wait(2)"
   ]
  }
 ],
 "metadata": {
  "kernelspec": {
   "display_name": "Python 3",
   "language": "python",
   "name": "python3"
  },
  "language_info": {
   "codemirror_mode": {
    "name": "ipython",
    "version": 3
   },
   "file_extension": ".py",
   "mimetype": "text/x-python",
   "name": "python",
   "nbconvert_exporter": "python",
   "pygments_lexer": "ipython3",
   "version": "3.8.5"
  }
 },
 "nbformat": 4,
 "nbformat_minor": 4
}
